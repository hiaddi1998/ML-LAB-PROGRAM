{
 "cells": [
  {
   "cell_type": "code",
   "execution_count": 4,
   "metadata": {},
   "outputs": [
    {
     "name": "stdout",
     "output_type": "stream",
     "text": [
      "The dimensions of the dataset (18, 2)\n",
      "\n",
      " the total number of Training Data : (13,)\n",
      "\n",
      " the total number of Test Data : (5,)\n",
      "\n",
      " The words or Tokens in the text documents \n",
      "\n",
      "['about', 'amazing', 'an', 'awesome', 'bad', 'beers', 'best', 'dance', 'do', 'enemy', 'feel', 'fun', 'good', 'great', 'have', 'he', 'holiday', 'house', 'is', 'like', 'locality', 'love', 'my', 'not', 'place', 'restaurant', 'sandwich', 'stay', 'sworn', 'that', 'these', 'this', 'to', 'today', 'tomorrow', 'very', 'view', 'we', 'went', 'what', 'will', 'work']\n",
      "\n",
      " Accuracy of the classifier is 0.2\n",
      "\n",
      " Confusion matrix\n",
      "[[1 4]\n",
      " [0 0]]\n",
      "\n",
      " The value of Precision 0.0\n",
      "\n",
      " The value of Recall 0.0\n"
     ]
    },
    {
     "name": "stderr",
     "output_type": "stream",
     "text": [
      "C:\\Users\\Dell\\anaconda3\\lib\\site-packages\\sklearn\\metrics\\_classification.py:1221: UndefinedMetricWarning: Recall is ill-defined and being set to 0.0 due to no true samples. Use `zero_division` parameter to control this behavior.\n",
      "  _warn_prf(average, modifier, msg_start, len(result))\n"
     ]
    }
   ],
   "source": [
    "import pandas as pd\n",
    "from sklearn.model_selection import train_test_split\n",
    "from sklearn.feature_extraction.text import CountVectorizer\n",
    "from sklearn.naive_bayes import MultinomialNB\n",
    "from sklearn import metrics\n",
    "msg=pd.read_csv('Desktop/pgm6/pgm6.csv',names=['message','label'])\n",
    "print('The dimensions of the dataset',msg.shape) \n",
    "msg['labelnum']=msg.label.map({'pos':1,'neg':0})\n",
    "X=msg.message \n",
    "y=msg.labelnum \n",
    "xtrain,xtest,ytrain,ytest=train_test_split(X,y)\n",
    "print ('\\n the total number of Training Data :',ytrain.shape) \n",
    "print ('\\n the total number of Test Data :',ytest.shape) \n",
    "\n",
    "cv = CountVectorizer() \n",
    "xtrain_dtm = cv.fit_transform(xtrain) \n",
    "xtest_dtm=cv.transform(xtest) \n",
    "print('\\n The words or Tokens in the text documents \\n') \n",
    "print(cv.get_feature_names()) \n",
    "df=pd.DataFrame(xtrain_dtm.toarray(),columns=cv.get_feature_names()) \n",
    "# Training Naive Bayes (NB) classifier on training data. \n",
    "clf = MultinomialNB().fit(xtrain_dtm,ytrain) \n",
    "predicted = clf.predict(xtest_dtm) \n",
    "#printing accuracy, Confusion matrix, Precision and Recall \n",
    "print('\\n Accuracy of the classifier is',metrics.accuracy_score(ytest,predicted)) \n",
    "print('\\n Confusion matrix') \n",
    "print(metrics.confusion_matrix(ytest,predicted)) \n",
    "print('\\n The value of Precision', metrics.precision_score(ytest,predicted)) \n",
    "print('\\n The value of Recall', metrics.recall_score(ytest,predicted))\n",
    "\n"
   ]
  },
  {
   "cell_type": "code",
   "execution_count": null,
   "metadata": {},
   "outputs": [],
   "source": []
  }
 ],
 "metadata": {
  "kernelspec": {
   "display_name": "Python 3",
   "language": "python",
   "name": "python3"
  },
  "language_info": {
   "codemirror_mode": {
    "name": "ipython",
    "version": 3
   },
   "file_extension": ".py",
   "mimetype": "text/x-python",
   "name": "python",
   "nbconvert_exporter": "python",
   "pygments_lexer": "ipython3",
   "version": "3.8.5"
  }
 },
 "nbformat": 4,
 "nbformat_minor": 4
}
